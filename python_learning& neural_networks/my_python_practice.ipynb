{
 "cells": [
  {
   "cell_type": "code",
   "execution_count": 193,
   "id": "cae32395",
   "metadata": {},
   "outputs": [
    {
     "name": "stdout",
     "output_type": "stream",
     "text": [
      "hello Ujjwal\n",
      "<class 'str'>\n"
     ]
    }
   ],
   "source": [
    "name = \"Ujjwal\" #assigning operator =\n",
    "print(\"hello\", name)# print statement\n",
    "print(type(name))# to tell about the type of variable stored"
   ]
  },
  {
   "cell_type": "code",
   "execution_count": 194,
   "id": "f10a1596",
   "metadata": {},
   "outputs": [
    {
     "name": "stdout",
     "output_type": "stream",
     "text": [
      "and opertaor: 2\n"
     ]
    }
   ],
   "source": [
    "val1 = 2\n",
    "val2 = False\n",
    "print(\"and opertaor:\", val1 or val2)# bool operator use in print to reduce code time"
   ]
  },
  {
   "cell_type": "code",
   "execution_count": 195,
   "id": "056d5710",
   "metadata": {},
   "outputs": [
    {
     "data": {
      "text/plain": [
       "'45'"
      ]
     },
     "execution_count": 195,
     "metadata": {},
     "output_type": "execute_result"
    }
   ],
   "source": [
    "input(\"enter you rname \")# taking input "
   ]
  },
  {
   "cell_type": "code",
   "execution_count": 196,
   "id": "c79ae056",
   "metadata": {},
   "outputs": [
    {
     "name": "stdout",
     "output_type": "stream",
     "text": [
      "90.0\n",
      "45.0\n",
      "True\n"
     ]
    }
   ],
   "source": [
    "num1 = float(input(\"write num1 to sum\"))\n",
    "num2 = float(input(\"write num2 to sum\"))\n",
    "a = num1\n",
    "b= num2\n",
    "print(num1+num2)\n",
    "print((num1+num2)/2)\n",
    "print(a>=b)"
   ]
  },
  {
   "cell_type": "code",
   "execution_count": 197,
   "id": "3a47b007",
   "metadata": {},
   "outputs": [
    {
     "name": "stdout",
     "output_type": "stream",
     "text": [
      "area 2025.0\n"
     ]
    }
   ],
   "source": [
    "sqside = float(input(\"write the side of the square\"))\n",
    "print(\"area\", sqside**2)"
   ]
  },
  {
   "cell_type": "code",
   "execution_count": 198,
   "id": "af13c550",
   "metadata": {},
   "outputs": [
    {
     "name": "stdout",
     "output_type": "stream",
     "text": [
      "2\n"
     ]
    }
   ],
   "source": [
    "s=input(\"ad's\")\n",
    "print(len(s))\n"
   ]
  },
  {
   "cell_type": "code",
   "execution_count": 199,
   "id": "92733624",
   "metadata": {},
   "outputs": [
    {
     "name": "stdout",
     "output_type": "stream",
     "text": [
      "mu name is anthomy \n",
      "consfdf \n",
      "s\n",
      "\n"
     ]
    }
   ],
   "source": [
    "s = \"mu name is anthomy \\nconsfdf \"\n",
    "print(s) \n",
    "print(s[9])# cannot modify the character by this we can only see them and print them \n",
    "a = s[-1:-4]#slicing: to slice the string for one to other\n",
    "print(a)\n"
   ]
  },
  {
   "cell_type": "code",
   "execution_count": 200,
   "id": "d81c407f",
   "metadata": {},
   "outputs": [
    {
     "name": "stdout",
     "output_type": "stream",
     "text": [
      "False\n"
     ]
    },
    {
     "data": {
      "text/plain": [
       "1"
      ]
     },
     "execution_count": 200,
     "metadata": {},
     "output_type": "execute_result"
    }
   ],
   "source": [
    "print(s.endswith(\"dfv\"))# checks if the s string ends with that string or not \n",
    "s.capitalize()# capotalize the s string and it creates a new string and doest change the intial string so be careful\n",
    "s.replace(\"o\",\"a\")# replaces o with a in the whole string this also create new string \n",
    "s.find(\"python\")# returns the index of the starting of this word in the sentence\n",
    "s.count(\"am\")# returns the number of times its repeated in the string \n"
   ]
  },
  {
   "cell_type": "code",
   "execution_count": 201,
   "id": "7a987055",
   "metadata": {},
   "outputs": [
    {
     "name": "stdout",
     "output_type": "stream",
     "text": [
      "2\n"
     ]
    }
   ],
   "source": [
    "#Q.1\n",
    "name = str(input(\"write your name\"))\n",
    "print(len(name))"
   ]
  },
  {
   "cell_type": "code",
   "execution_count": 202,
   "id": "8e51fe4c",
   "metadata": {},
   "outputs": [
    {
     "name": "stdout",
     "output_type": "stream",
     "text": [
      "1\n"
     ]
    }
   ],
   "source": [
    "#Q.2\n",
    "string = str(input(\"write anyting\"))\n",
    "print(string.count(\"$\"))"
   ]
  },
  {
   "cell_type": "code",
   "execution_count": 203,
   "id": "4c682efd",
   "metadata": {},
   "outputs": [
    {
     "name": "stdout",
     "output_type": "stream",
     "text": [
      "allowed\n"
     ]
    }
   ],
   "source": [
    "#if-else\n",
    "age = 24\n",
    "if(age>21):# checks if the condition is true or not and if conditions are always gets cheked even if there are more thean one \n",
    "  print(\"allowed\")\n",
    "elif(age>21):#if if condition is wrong then only it gets checked\n",
    "  print(\"disallowed\")\n",
    "else:#if above statment are not exceduted then only code sees this \n",
    "  print(\"invalid age\")\n"
   ]
  },
  {
   "cell_type": "code",
   "execution_count": 204,
   "id": "ade87df6",
   "metadata": {},
   "outputs": [
    {
     "name": "stdout",
     "output_type": "stream",
     "text": [
      "number is odd\n"
     ]
    }
   ],
   "source": [
    "#Q.1\n",
    "number = int(input(\"wirte any number\"))\n",
    "if(number%2 == 0):\n",
    "  print(\"number is even\")\n",
    "else:\n",
    "  print(\"number is odd\")"
   ]
  },
  {
   "cell_type": "code",
   "execution_count": 206,
   "id": "33dd1b82",
   "metadata": {},
   "outputs": [
    {
     "name": "stdout",
     "output_type": "stream",
     "text": [
      "num1 45 is largest number\n"
     ]
    }
   ],
   "source": [
    "#Q.2\n",
    "num1 = int(input(\"wirte any number\"))\n",
    "num2 = int(input(\"wirte any number\"))\n",
    "num3 = int(input(\"wirte any number\"))\n",
    "if(num1>=num2 and num1>=num3):\n",
    "  print(\"num1\",num1, \"is largest number\")\n",
    "elif(num2>num1 and num2>num3):\n",
    "  print(\"num2\",num2, \"is largest number\")\n",
    "elif(num3>num2 and num3>num1):\n",
    "  print(\"num3\",num3, \"is largest number\")\n"
   ]
  },
  {
   "cell_type": "code",
   "execution_count": 207,
   "id": "a02c6bbf",
   "metadata": {},
   "outputs": [
    {
     "name": "stdout",
     "output_type": "stream",
     "text": [
      "[3, 323, 23332, 232, 23232]\n",
      "<class 'list'>\n",
      "323\n",
      "5\n",
      "234\n",
      "[3, 234, 23332, 232, 23232, 24]\n"
     ]
    }
   ],
   "source": [
    "a = [3,323,23332,232,23232]# it is mutable \n",
    "print(a)\n",
    "print(type(a))\n",
    "print(a[1])\n",
    "print(len(a))# counts from 0\n",
    "a[1]=234\n",
    "print(a[1])\n",
    "a.append(24)# adding at the end of the list\n",
    "print(a)"
   ]
  },
  {
   "cell_type": "code",
   "execution_count": 208,
   "id": "ce77c8b0",
   "metadata": {},
   "outputs": [
    {
     "data": {
      "text/plain": [
       "234"
      ]
     },
     "execution_count": 208,
     "metadata": {},
     "output_type": "execute_result"
    }
   ],
   "source": [
    "a.sort()# sorts in ascending order both str and int and float\n",
    "a.sort(reverse = True)# sorts in descending order for str in alphabetical order and int and float \n",
    "a.remove(23332)# remove the first occurence of 2\n",
    "a.pop(1)# remove the thing at index 2"
   ]
  },
  {
   "cell_type": "code",
   "execution_count": 209,
   "id": "5fa001ff",
   "metadata": {},
   "outputs": [
    {
     "name": "stdout",
     "output_type": "stream",
     "text": [
      "2\n",
      "1\n"
     ]
    }
   ],
   "source": [
    "tup = (87,56,78,76,87) # tuple are immutable\n",
    "print(tup.count(87))# counts the occurence of 87\n",
    "print(tup.index(56))# returns indexs of first occurence of 56"
   ]
  },
  {
   "cell_type": "code",
   "execution_count": 210,
   "id": "1af8dc1e",
   "metadata": {},
   "outputs": [
    {
     "name": "stdout",
     "output_type": "stream",
     "text": [
      "['adsf', 'dfasd', 'dsfa']\n"
     ]
    }
   ],
   "source": [
    "#Q.1\n",
    "movie1 = str(input(\"write the name of your 1st most faviroutte movei\"))\n",
    "movie2 = str(input(\"write the name of your 2nd most faviroutte movei\"))\n",
    "movie3 = str(input(\"write the name of your 3rd most faviroutte movei\"))\n",
    "movie = []\n",
    "movie.append(movie1)\n",
    "movie.append(movie2)\n",
    "movie.append(movie3)\n",
    "print(movie)\n",
    "\n",
    "\n",
    "\n"
   ]
  },
  {
   "cell_type": "code",
   "execution_count": 211,
   "id": "7c26e160",
   "metadata": {},
   "outputs": [
    {
     "name": "stdout",
     "output_type": "stream",
     "text": [
      "true\n"
     ]
    }
   ],
   "source": [
    "#Q.2\n",
    "a = [2,2,3,2,2]\n",
    "b = a.copy()\n",
    "b.reverse()\n",
    "if(a == b):\n",
    "  print(\"true\")\n",
    "else:\n",
    "  print(\"false\")"
   ]
  },
  {
   "cell_type": "code",
   "execution_count": 212,
   "id": "c86b61bd",
   "metadata": {},
   "outputs": [
    {
     "name": "stdout",
     "output_type": "stream",
     "text": [
      "2\n"
     ]
    }
   ],
   "source": [
    "#Q.3\n",
    "a = (\"c\",\"A\",\"B\",\"A\")\n",
    "print(a.count(\"A\"))# count is case sensitive"
   ]
  },
  {
   "cell_type": "code",
   "execution_count": 213,
   "id": "f6c3097d",
   "metadata": {},
   "outputs": [
    {
     "name": "stdout",
     "output_type": "stream",
     "text": [
      "{'name': 'ujjwal', 'cgpay': 8.67}\n",
      "{'name': 'ujjwal bindal', 'cgpay': 8.67}\n"
     ]
    }
   ],
   "source": [
    "dicto = {\"name\": \"ujjwal\", \"cgpay\": 8.67}#mutable, noorder, dont allow duplicate keys\n",
    "print(dicto)\n",
    "dicto[\"name\"] = \"ujjwal bindal\"\n",
    "print(dicto)"
   ]
  },
  {
   "cell_type": "code",
   "execution_count": 214,
   "id": "0e442857",
   "metadata": {},
   "outputs": [
    {
     "name": "stdout",
     "output_type": "stream",
     "text": [
      "{'name': ' ujjwal', 'subjects': {'phy': 97, 'chem': 98, 'math': 99}}\n",
      "98\n",
      "dict_keys(['name', 'subjects'])\n",
      "dict_values([' ujjwal', {'phy': 97, 'chem': 98, 'math': 99}])\n",
      "dict_items([('name', ' ujjwal'), ('subjects', {'phy': 97, 'chem': 98, 'math': 99})])\n",
      "{'phy': 97, 'chem': 98, 'math': 99}\n",
      "None\n",
      "{'name': ' ujjwal', 'subjects': {'phy': 97, 'chem': 98, 'math': 99}, 'age': 16}\n"
     ]
    }
   ],
   "source": [
    "student = {# nested dictoonary \n",
    "  \"name\": \" ujjwal\",\n",
    "  \"subjects\": {\n",
    "    \"phy\": 97,\n",
    "    \"chem\": 98,\n",
    "    \"math\": 99 \n",
    "  }\n",
    "}\n",
    "print(student)\n",
    "print(student[\"subjects\"][\"chem\"])# dic ke andar dic\n",
    "print(student.keys())# prints all the keys in dictonary in list form\n",
    "print(student.values())# prints all the values \n",
    "print(student.items())#returns all key,val pairs as tuples \n",
    "print(student.get(\"subjects\"))# returns key according to value this way gives no error if the specified key doesnt exist therefore we use it instead of regular bracket notation \n",
    "new_student = {\"age\": 16}\n",
    "print(student.update(new_student))# returns none but add new dict at the end only \n",
    "print(student)\n",
    "# we can make list of all the above statement and use it as we like "
   ]
  },
  {
   "cell_type": "code",
   "execution_count": 146,
   "id": "9fa51b6f",
   "metadata": {},
   "outputs": [
    {
     "name": "stdout",
     "output_type": "stream",
     "text": [
      "set()\n",
      "{1, 2, 3, 4}\n"
     ]
    }
   ],
   "source": [
    "nums = {1,2,3,4}# undordered and any element should be unique and its element are immutable but things can we added and removed frm it set and dict can not be stored inside set\n",
    "null_set = set()\n",
    "print(null_set)\n",
    "print(nums)"
   ]
  },
  {
   "cell_type": "code",
   "execution_count": 149,
   "id": "7d982fbf",
   "metadata": {},
   "outputs": [
    {
     "name": "stdout",
     "output_type": "stream",
     "text": [
      "{1, 2, 3, 4, 6, 200}\n",
      "{1, 2, 3, 4, 6}\n"
     ]
    }
   ],
   "source": [
    "a = {1,200}\n",
    "nums.add(6)# add the element can do it anywhere not neceserraliy in last\n",
    "\n",
    "\n",
    "print(nums.union(a))# union and intersection can also be done, they make a new set instead of changing the previous ones \n",
    "\n",
    "print(nums)"
   ]
  },
  {
   "cell_type": "code",
   "execution_count": 141,
   "id": "9dfefc1c",
   "metadata": {},
   "outputs": [],
   "source": [
    "nums.remove(4)# remove the element\n",
    "\n",
    "nums.pop()# randomly remoce a set value\n",
    "nums.clear()# clears the whole set"
   ]
  },
  {
   "cell_type": "code",
   "execution_count": 152,
   "id": "ccc1c0b6",
   "metadata": {},
   "outputs": [
    {
     "name": "stdout",
     "output_type": "stream",
     "text": [
      "{'table': ['a peice of furniture', 'list of facts& figures'], 'cat': 'a small animal'}\n"
     ]
    }
   ],
   "source": [
    "#Q.1\n",
    "dicto = {\"table\": [\"a peice of furniture\", \"list of facts& figures\"], \"cat\": \"a small animal\"}\n",
    "print(dicto)"
   ]
  },
  {
   "cell_type": "code",
   "execution_count": null,
   "id": "6c69120c",
   "metadata": {},
   "outputs": [
    {
     "name": "stdout",
     "output_type": "stream",
     "text": [
      "3\n"
     ]
    }
   ],
   "source": [
    "#Q.2\n",
    "classr = [\"python\", \"java\", \"c++\", \"c++\"]# its case sensitive\n",
    "classr = set(classr)\n",
    "print(len(classr))"
   ]
  },
  {
   "cell_type": "code",
   "execution_count": 154,
   "id": "a49e2ecd",
   "metadata": {},
   "outputs": [
    {
     "name": "stdout",
     "output_type": "stream",
     "text": [
      "{'physics': '96', 'chemistry': '98', 'maths': '34'}\n"
     ]
    }
   ],
   "source": [
    "#Q.3\n",
    "marks = {}\n",
    "phy_m = input(\"write your phy marks\")\n",
    "chem_m = input(\"write your chem marks\")\n",
    "math_m = input(\"write your amth marks\")\n",
    "a = {\"physics\": phy_m, \"chemistry\": chem_m, \"maths\": math_m }\n",
    "marks.update(a)\n",
    "print(marks)\n"
   ]
  },
  {
   "cell_type": "code",
   "execution_count": 155,
   "id": "441405de",
   "metadata": {},
   "outputs": [
    {
     "name": "stdout",
     "output_type": "stream",
     "text": [
      "{'physics': '67', 'chemistry': '56', 'maths': '68'}\n"
     ]
    }
   ],
   "source": [
    "#Q.3 other method\n",
    "marks = {}\n",
    "marks[\"physics\"] = input(\"write your phy marks\")\n",
    "marks[\"chemistry\"] = input(\"write your chem marks\")\n",
    "marks[\"maths\"] = input(\"write your amth marks\")\n",
    "print(marks)"
   ]
  },
  {
   "cell_type": "code",
   "execution_count": 160,
   "id": "c1b73f4a",
   "metadata": {},
   "outputs": [
    {
     "name": "stdout",
     "output_type": "stream",
     "text": [
      "{'9.0', 9}\n"
     ]
    }
   ],
   "source": [
    "#Q.4\n",
    "\n",
    "sets = {9,'9.0'}\n",
    "print(sets)"
   ]
  },
  {
   "cell_type": "code",
   "execution_count": 165,
   "id": "ee99f53f",
   "metadata": {},
   "outputs": [
    {
     "name": "stdout",
     "output_type": "stream",
     "text": [
      "90 * 1 = 90\n",
      "90 * 2 = 180\n",
      "90 * 3 = 270\n",
      "90 * 4 = 360\n",
      "90 * 5 = 450\n",
      "90 * 6 = 540\n",
      "90 * 7 = 630\n",
      "90 * 8 = 720\n",
      "90 * 9 = 810\n",
      "90 * 10 = 900\n"
     ]
    }
   ],
   "source": [
    "#Q.1\n",
    "a = int(input(\"give the number n whose table you want\"))\n",
    "i = 1\n",
    "while (i<=10):\n",
    "  print(a,'*',i,'=',i*a)\n",
    "  i += 1"
   ]
  },
  {
   "cell_type": "code",
   "execution_count": 168,
   "id": "e831a669",
   "metadata": {},
   "outputs": [
    {
     "name": "stdout",
     "output_type": "stream",
     "text": [
      "1\n",
      "4\n",
      "9\n",
      "16\n",
      "25\n",
      "36\n",
      "49\n",
      "64\n",
      "81\n",
      "100\n"
     ]
    }
   ],
   "source": [
    "b = [1,4,9,16,25,36,49,64,81,100]\n",
    "i = 0\n",
    "while (i<len(b)):\n",
    "  print(b[i])\n",
    "  i += 1"
   ]
  },
  {
   "cell_type": "code",
   "execution_count": 2,
   "id": "f8942d26",
   "metadata": {},
   "outputs": [
    {
     "name": "stdout",
     "output_type": "stream",
     "text": [
      "1\n",
      "4\n",
      "9\n",
      "16\n",
      "25\n",
      "4  is the index for this nu in tuple\n",
      "36\n",
      "49\n",
      "64\n",
      "81\n",
      "100\n"
     ]
    }
   ],
   "source": [
    "k = (1,4,9,16,25,36,49,64,81,100)\n",
    "nu = int(input(\"which number you want to find\"))\n",
    "i = 0\n",
    "while (i<len(k)):\n",
    "  print(k[i])\n",
    "  if(k[i] == nu):\n",
    "    print(i,\" is the index for this nu in tuple\")\n",
    "    \n",
    "  i += 1"
   ]
  },
  {
   "cell_type": "code",
   "execution_count": 5,
   "id": "13e60ccd",
   "metadata": {},
   "outputs": [
    {
     "name": "stdout",
     "output_type": "stream",
     "text": [
      "1\n",
      "6\n",
      "7\n",
      "8\n",
      "end\n"
     ]
    }
   ],
   "source": [
    "numk = [1,6,7,8]\n",
    "for tal in numk:\n",
    "  print(tal)\n",
    "else:# in use of break we use else\n",
    "  print(\"end\")"
   ]
  },
  {
   "cell_type": "code",
   "execution_count": 6,
   "id": "ea0ae3a3",
   "metadata": {},
   "outputs": [
    {
     "name": "stdout",
     "output_type": "stream",
     "text": [
      "2\n",
      "5\n"
     ]
    }
   ],
   "source": [
    "for el in range(2,6,3):\n",
    "  print(el)"
   ]
  },
  {
   "cell_type": "code",
   "execution_count": 15,
   "id": "c82f76c0",
   "metadata": {},
   "outputs": [
    {
     "name": "stdout",
     "output_type": "stream",
     "text": [
      "1\n",
      "2\n",
      "6\n",
      "24\n",
      "120\n"
     ]
    }
   ],
   "source": [
    "n = int(input(\"write hte number upto which you want facotial\"))\n",
    "\n",
    "for el in range(1,n+1):\n",
    "  fac = 1\n",
    "  for eli in range(el):\n",
    "    fac = fac*(eli+1)\n",
    "  print(fac)\n",
    "\n",
    "\n"
   ]
  },
  {
   "cell_type": "code",
   "execution_count": 16,
   "id": "82297d3b",
   "metadata": {},
   "outputs": [
    {
     "name": "stdout",
     "output_type": "stream",
     "text": [
      "10\n",
      "9\n",
      "8\n",
      "7\n",
      "6\n",
      "5\n",
      "4\n",
      "3\n",
      "2\n",
      "1\n"
     ]
    }
   ],
   "source": [
    "#recursion\n",
    "def show(n):\n",
    "  if (n==0):\n",
    "    return \n",
    "  print(n)\n",
    "  show(n-1)\n",
    "show(10)"
   ]
  },
  {
   "cell_type": "code",
   "execution_count": null,
   "id": "a316ae99",
   "metadata": {},
   "outputs": [
    {
     "data": {
      "text/plain": [
       "3"
      ]
     },
     "execution_count": 19,
     "metadata": {},
     "output_type": "execute_result"
    }
   ],
   "source": [
    "#Q.1\n",
    "def sums(n):\n",
    "  if(n == 1 ):\n",
    "    return 1\n",
    "  return(n + sums(n-1))\n",
    "\n",
    "sums(2)"
   ]
  },
  {
   "cell_type": "code",
   "execution_count": null,
   "id": "a6be259f",
   "metadata": {},
   "outputs": [
    {
     "name": "stdout",
     "output_type": "stream",
     "text": [
      "1\n",
      "2\n",
      "3\n",
      "4\n",
      "5\n",
      "asdf\n",
      "343\n"
     ]
    }
   ],
   "source": [
    "#Q.2\n",
    "def prlist(lists,i=0):\n",
    "  if(i==len(lists)):\n",
    "    return\n",
    "  print(lists[i])\n",
    "  prlist(lists,i+1)\n",
    "\n",
    "a = [1,2,3,4,5,\"asdf\",343]\n",
    "prlist(a)"
   ]
  },
  {
   "cell_type": "code",
   "execution_count": 23,
   "id": "c93932e0",
   "metadata": {},
   "outputs": [
    {
     "name": "stdout",
     "output_type": "stream",
     "text": [
      "19\n"
     ]
    }
   ],
   "source": [
    "#File I/O in python\n",
    "f = open(\"sample.txt\",\"a\")\n",
    "data = f.write(\" i am ujjwal bindal\")\n",
    "print(data)\n",
    "# rd = f.read()\n",
    "# print(rd)\n",
    "f.close()"
   ]
  },
  {
   "cell_type": "code",
   "execution_count": null,
   "id": "1f471c1f",
   "metadata": {},
   "outputs": [
    {
     "name": "stdout",
     "output_type": "stream",
     "text": [
      "i am ujjwal bindali am ujjwal bindal i am ujjwal bindal\n"
     ]
    }
   ],
   "source": [
    "with open('sample.txt','r') as f:# important for writitng and reading in a file its closes the file automatically when work is done\n",
    "  data = f.read()\n",
    "  print(data) "
   ]
  },
  {
   "cell_type": "code",
   "execution_count": null,
   "id": "809a7346",
   "metadata": {},
   "outputs": [
    {
     "ename": "FileNotFoundError",
     "evalue": "[WinError 2] The system cannot find the file specified: 'sample.txt'",
     "output_type": "error",
     "traceback": [
      "\u001b[1;31m---------------------------------------------------------------------------\u001b[0m",
      "\u001b[1;31mFileNotFoundError\u001b[0m                         Traceback (most recent call last)",
      "Cell \u001b[1;32mIn[19], line 2\u001b[0m\n\u001b[0;32m      1\u001b[0m \u001b[38;5;28;01mimport\u001b[39;00m \u001b[38;5;21;01mos\u001b[39;00m\u001b[38;5;66;03m# already pre downloaded\u001b[39;00m\n\u001b[1;32m----> 2\u001b[0m \u001b[43mos\u001b[49m\u001b[38;5;241;43m.\u001b[39;49m\u001b[43mremove\u001b[49m\u001b[43m(\u001b[49m\u001b[38;5;124;43m'\u001b[39;49m\u001b[38;5;124;43msample.txt\u001b[39;49m\u001b[38;5;124;43m'\u001b[39;49m\u001b[43m)\u001b[49m\u001b[38;5;66;03m# to delete the file \u001b[39;00m\n",
      "\u001b[1;31mFileNotFoundError\u001b[0m: [WinError 2] The system cannot find the file specified: 'sample.txt'"
     ]
    }
   ],
   "source": [
    "import os# already pre downloaded\n",
    "#os.remove('sample.txt') to delete the file "
   ]
  },
  {
   "cell_type": "code",
   "execution_count": 24,
   "id": "c85b9be2",
   "metadata": {},
   "outputs": [],
   "source": [
    "def check_for_line():\n",
    "  word = \"learning\"\n",
    "  data = True\n",
    "  line_no = 1\n",
    "  with open(\"practice.txt\", \"r\") as f:\n",
    "    while data:\n",
    "      data = f.readline()# when the line is empty its get data = false so loop ends\n",
    "      if(word in data):\n",
    "        return line_no\n",
    "      line_no += 1\n"
   ]
  },
  {
   "cell_type": "code",
   "execution_count": 67,
   "id": "129a0861",
   "metadata": {},
   "outputs": [],
   "source": [
    "with open(\"number.txt\",'w')as f:\n",
    "  f.write('1,2,3,4,5,43534,434534,324')\n"
   ]
  },
  {
   "cell_type": "code",
   "execution_count": null,
   "id": "da6199e8",
   "metadata": {},
   "outputs": [
    {
     "name": "stdout",
     "output_type": "stream",
     "text": [
      "['1', '2', '3', '4', '5', '43534', '434534', '324']\n",
      "odd 3 , even 5\n"
     ]
    }
   ],
   "source": [
    "with open('number.txt', 'r')as f:\n",
    "  data = f.read()\n",
    "  nums = data.split(\",\")#important it splitted all our numbers in a list as string but\n",
    "  print(nums)\n",
    "  odd = 0\n",
    "  even =0\n",
    "  for i in range(0,len(nums),1):# or we can also do by for val in nums:\n",
    "    if(int(nums[i])%2 == 0):\n",
    "      even += 1\n",
    "    else:\n",
    "      odd += 1\n",
    "print(\"odd\",odd,',',\"even\",even)"
   ]
  },
  {
   "cell_type": "code",
   "execution_count": null,
   "id": "6ece7ce7",
   "metadata": {},
   "outputs": [
    {
     "name": "stdout",
     "output_type": "stream",
     "text": [
      "adding new student to databse\n",
      "ujjwal 87\n",
      "abc college\n"
     ]
    }
   ],
   "source": [
    "#OOPS in python\n",
    "class Student:\n",
    "  college_name=\"abc college\"# class attribute universal for all student in this case\n",
    "  def __init__(self, name, marks):\n",
    "    self.name = name# object attribute taken as input for different students\n",
    "    self.marks = marks\n",
    "    print(\"adding new student to databse\")\n",
    "  @staticmethod # its a decorator \n",
    "  def hello():# method in a class \n",
    "    print(\"hello\", self.name)\n",
    "s1=Student(\"ujjwal\",87)\n",
    "print(s1.name, s1.marks)\n",
    "print(s1.college_name)\n",
    "# decorator allows us to wrap another function in order to \n",
    "#extend the behaviour of the wrapped function, without permanently modifying it \n"
   ]
  },
  {
   "cell_type": "code",
   "execution_count": null,
   "id": "6eb2e0c0",
   "metadata": {},
   "outputs": [
    {
     "name": "stdout",
     "output_type": "stream",
     "text": [
      "car started\n"
     ]
    }
   ],
   "source": [
    "class Car:#parent class\n",
    "  @staticmethod\n",
    "  def start():\n",
    "    print(\"car started\")\n",
    "  @staticmethod\n",
    "  def stop():\n",
    "    print(\"car stopped\")\n",
    "class Toyotacar(Car):# child class\n",
    "  def __init__(self,name):\n",
    "    self.name = name\n",
    "\n",
    "car1 = Toyotacar(\"fortuner\")\n",
    "car1.start()"
   ]
  },
  {
   "cell_type": "code",
   "execution_count": null,
   "id": "0b26bb62",
   "metadata": {},
   "outputs": [
    {
     "name": "stdout",
     "output_type": "stream",
     "text": [
      "[2 4]\n",
      "<class 'numpy.ndarray'>\n"
     ]
    }
   ],
   "source": [
    "import numpy as np\n",
    "arr = np.array([1,2,3,4,5,6,7])\n",
    "print(arr[1:5:2])# return every other index from 1 to 5\n",
    "print(type(arr))"
   ]
  },
  {
   "cell_type": "code",
   "execution_count": null,
   "id": "8338e275",
   "metadata": {},
   "outputs": [
    {
     "name": "stdout",
     "output_type": "stream",
     "text": [
      "4\n"
     ]
    }
   ],
   "source": [
    "d = np.array([[[[1,2,3],[4,5,6]],[[1,2,3],[4,5,6]]]])\n",
    "print(d.ndim)\n"
   ]
  },
  {
   "cell_type": "code",
   "execution_count": 81,
   "id": "b715b441",
   "metadata": {},
   "outputs": [
    {
     "name": "stdout",
     "output_type": "stream",
     "text": [
      "[[[[[1 2 3 4 5]]]]]\n",
      "number of dimensions: 5\n"
     ]
    }
   ],
   "source": [
    "arr = np.array([1,2,3,4,5], ndmin=5)\n",
    "print(arr)\n",
    "print('number of dimensions:', arr.ndim)\n",
    "\n"
   ]
  },
  {
   "cell_type": "code",
   "execution_count": null,
   "id": "25ea5c0b",
   "metadata": {},
   "outputs": [
    {
     "name": "stdout",
     "output_type": "stream",
     "text": [
      "2\n",
      "3\n"
     ]
    }
   ],
   "source": [
    "arr = np.array([[1,2,4,5,6],[6,7,8,9,10],[1,1,1,1,1]])\n",
    "print(arr[0,1])\n",
    "print(len(arr))#number of rows"
   ]
  },
  {
   "cell_type": "code",
   "execution_count": 96,
   "id": "2473f5fa",
   "metadata": {},
   "outputs": [
    {
     "name": "stdout",
     "output_type": "stream",
     "text": [
      "(2, 5)\n"
     ]
    }
   ],
   "source": [
    "zero = np.zeros((2,5))\n",
    "print(zero.shape)"
   ]
  },
  {
   "cell_type": "code",
   "execution_count": 120,
   "id": "b401d49c",
   "metadata": {},
   "outputs": [
    {
     "name": "stdout",
     "output_type": "stream",
     "text": [
      "[ 1  2  3  4  5  6  7  8  9 10 11 12 13 14 15]\n"
     ]
    }
   ],
   "source": [
    "rng = np.arange(1,16)# gives us a numpy 1d array\n",
    "print(rng)"
   ]
  },
  {
   "cell_type": "code",
   "execution_count": null,
   "id": "8fad5079",
   "metadata": {},
   "outputs": [
    {
     "data": {
      "text/plain": [
       "array([1.        , 2.33333333, 3.66666667, 5.        ])"
      ]
     },
     "execution_count": 102,
     "metadata": {},
     "output_type": "execute_result"
    }
   ],
   "source": [
    "lspace = np.linspace(1,5,4)# gives equally spaced array from 1 to 5 having 4 elements\n",
    "lspace "
   ]
  },
  {
   "cell_type": "code",
   "execution_count": 106,
   "id": "52d4894b",
   "metadata": {},
   "outputs": [
    {
     "name": "stdout",
     "output_type": "stream",
     "text": [
      "[[1.44806543e-311 1.02765654e-321 0.00000000e+000 0.00000000e+000\n",
      "  7.56587583e-307 5.02034658e+175]\n",
      " [9.95834076e-043 6.29310468e-066 3.73238324e-033 1.73767103e-047\n",
      "  1.03981215e-071 1.31291670e-047]\n",
      " [3.83819517e+151 2.59903818e-144 1.04918562e-153 7.69165785e+218\n",
      "  5.04621343e+180 1.04917822e-153]\n",
      " [9.08366793e+223 9.95834076e-043 6.29310468e-066 3.73238324e-033\n",
      "  1.73767103e-047 1.04915022e-153]\n",
      " [1.94918966e-153 1.68891511e-052 1.48286583e-071 3.69533876e-057\n",
      "  2.59027896e-144 7.79952704e-143]]\n"
     ]
    }
   ],
   "source": [
    "emp = np.empty((5,6))# gives random array of 4 by 6 dim\n",
    "print(emp)"
   ]
  },
  {
   "cell_type": "code",
   "execution_count": 108,
   "id": "ad8679c3",
   "metadata": {},
   "outputs": [
    {
     "data": {
      "text/plain": [
       "array([1.        , 2.33333333, 3.66666667, 5.        ])"
      ]
     },
     "execution_count": 108,
     "metadata": {},
     "output_type": "execute_result"
    }
   ],
   "source": [
    "emp_like = np.empty_like(lspace)\n",
    "emp_like \n"
   ]
  },
  {
   "cell_type": "code",
   "execution_count": 112,
   "id": "a64020ea",
   "metadata": {},
   "outputs": [
    {
     "data": {
      "text/plain": [
       "array([[1., 0., 0.],\n",
       "       [0., 1., 0.],\n",
       "       [0., 0., 1.]])"
      ]
     },
     "execution_count": 112,
     "metadata": {},
     "output_type": "execute_result"
    }
   ],
   "source": [
    "idn = np.identity(3, float)# gives n*n identity matrix\n",
    "idn"
   ]
  },
  {
   "cell_type": "code",
   "execution_count": null,
   "id": "d06736e1",
   "metadata": {},
   "outputs": [
    {
     "data": {
      "text/plain": [
       "array([[ 1,  2,  3,  4,  5],\n",
       "       [ 6,  7,  8,  9, 10],\n",
       "       [11, 12, 13, 14, 15]])"
      ]
     },
     "execution_count": 122,
     "metadata": {},
     "output_type": "execute_result"
    }
   ],
   "source": [
    "new_rng = rng.reshape(3,5)# reshape the array condition n*m = total elements initails\n",
    "new_rng\n"
   ]
  },
  {
   "cell_type": "code",
   "execution_count": null,
   "id": "f12d2e0c",
   "metadata": {},
   "outputs": [
    {
     "name": "stdout",
     "output_type": "stream",
     "text": [
      "[ 1  2  3  4  5  6  7  8  9 10 11 12 13 14 15]\n"
     ]
    }
   ],
   "source": [
    "print(new_rng.ravel())# makes a new array and makes the whole array 1-d\n",
    "\n"
   ]
  },
  {
   "cell_type": "code",
   "execution_count": 125,
   "id": "50a5df78",
   "metadata": {},
   "outputs": [
    {
     "data": {
      "text/plain": [
       "array([[1, 2, 3],\n",
       "       [4, 5, 6],\n",
       "       [7, 1, 0]])"
      ]
     },
     "execution_count": 125,
     "metadata": {},
     "output_type": "execute_result"
    }
   ],
   "source": [
    "x = [[1,2,3],[4,5,6],[7,1,0]]\n",
    "ar = np.array(x)\n",
    "ar"
   ]
  },
  {
   "cell_type": "code",
   "execution_count": null,
   "id": "aaecfc3f",
   "metadata": {},
   "outputs": [
    {
     "data": {
      "text/plain": [
       "array([12,  8,  9])"
      ]
     },
     "execution_count": 131,
     "metadata": {},
     "output_type": "execute_result"
    }
   ],
   "source": [
    "ar.sum(axis=0)\n",
    "ar"
   ]
  },
  {
   "cell_type": "code",
   "execution_count": 145,
   "id": "7858eb27",
   "metadata": {},
   "outputs": [
    {
     "name": "stdout",
     "output_type": "stream",
     "text": [
      "[[1 2 3]\n",
      " [3 4 5]\n",
      " [4 5 6]]\n",
      "[1 2 3]\n"
     ]
    }
   ],
   "source": [
    "ar1 = np.array([[1,2,3],[3,4,5],[4,5,6]])\n",
    "ar2 = np.array([1,2,3])\n",
    "ar2 = ar2.T\n",
    "print(ar1)\n",
    "print(ar2)\n"
   ]
  },
  {
   "cell_type": "code",
   "execution_count": 148,
   "id": "f92572cb",
   "metadata": {},
   "outputs": [
    {
     "name": "stdout",
     "output_type": "stream",
     "text": [
      "[14 26 32]\n",
      "[14 26 32]\n"
     ]
    }
   ],
   "source": [
    "print(ar1.dot(ar2))\n",
    "print(np.matmul(ar1,ar2))"
   ]
  },
  {
   "cell_type": "code",
   "execution_count": 177,
   "id": "fbe9705e",
   "metadata": {},
   "outputs": [
    {
     "data": {
      "image/png": "[encoded data removed]",
      "text/plain": [
       "<Figure size 640x480 with 1 Axes>"
      ]
     },
     "metadata": {},
     "output_type": "display_data"
    }
   ],
   "source": [
    "# now i am leaving numpy part here for some time but now i will learn matplotlib in detail and then review numpy also \n",
    "import matplotlib.pyplot as plt\n",
    "x = [1,2,3,4]\n",
    "y = [4,6,2,10]\n",
    "plt.plot(x,y,color = 'red', linestyle = '--',label = 'ujjwal', marker = 'o')# x will come horizontally and y vertically🥲\n",
    "plt.title(\"mkb\")\n",
    "plt.xlabel(\"bhang-bhosda\")\n",
    "plt.ylabel(\"bada pbhang bhosda\")\n",
    "plt.legend()# shows the label and what the line represent\n",
    "plt.grid(color = 'grey',linestyle = '--')# also a very useful tool \n",
    "plt.xlim(1,5)# set xlimit like from where to where the graph will be plotted\n",
    "plt.ylim(1,19)\n",
    "plt.xticks([1,2,3,4],['m1','m2','m3','m4'])# it removes 1,2,3,4 and adds m1, m2, m3, m4 to better visulise data\n",
    "plt.show()\n",
    "#matplotlib important is only this just go through this whenver in doubt"
   ]
  },
  {
   "cell_type": "code",
   "execution_count": 188,
   "id": "a208c81b",
   "metadata": {},
   "outputs": [
    {
     "name": "stdout",
     "output_type": "stream",
     "text": [
      "   a  b  c\n",
      "0  1  2  3\n",
      "1  4  5  6\n",
      "2  7  8  9\n"
     ]
    },
    {
     "data": {
      "text/plain": [
       "[0, 1, 2]"
      ]
     },
     "execution_count": 188,
     "metadata": {},
     "output_type": "execute_result"
    }
   ],
   "source": [
    "# now i will go thorugh pandas library and then in the end will do some project related to this \n",
    "import pandas as pd\n",
    "df = pd.DataFrame([[1,2,3],[4,5,6],[7,8,9]], columns=[\"a\",\"b\",\"c\"], )# to make some data matrix and all\n",
    "print(df.head())# to view a particular data\n",
    "df.index.to_list()# to view the indexes on the rows side and those are converted to a list bu to_list()"
   ]
  },
  {
   "cell_type": "code",
   "execution_count": 225,
   "id": "1d37a0b0",
   "metadata": {},
   "outputs": [
    {
     "data": {
      "text/html": [
       "<div>\n",
       "<style scoped>\n",
       "    .dataframe tbody tr th:only-of-type {\n",
       "        vertical-align: middle;\n",
       "    }\n",
       "\n",
       "    .dataframe tbody tr th {\n",
       "        vertical-align: top;\n",
       "    }\n",
       "\n",
       "    .dataframe thead th {\n",
       "        text-align: right;\n",
       "    }\n",
       "</style>\n",
       "<table border=\"1\" class=\"dataframe\">\n",
       "  <thead>\n",
       "    <tr style=\"text-align: right;\">\n",
       "      <th></th>\n",
       "      <th>Day</th>\n",
       "      <th>Coffee Type</th>\n",
       "      <th>Units Sold</th>\n",
       "    </tr>\n",
       "  </thead>\n",
       "  <tbody>\n",
       "    <tr>\n",
       "      <th>0</th>\n",
       "      <td>Monday</td>\n",
       "      <td>Espresso</td>\n",
       "      <td>25</td>\n",
       "    </tr>\n",
       "    <tr>\n",
       "      <th>1</th>\n",
       "      <td>Monday</td>\n",
       "      <td>Latte</td>\n",
       "      <td>15</td>\n",
       "    </tr>\n",
       "    <tr>\n",
       "      <th>2</th>\n",
       "      <td>Tuesday</td>\n",
       "      <td>Espresso</td>\n",
       "      <td>30</td>\n",
       "    </tr>\n",
       "    <tr>\n",
       "      <th>3</th>\n",
       "      <td>Tuesday</td>\n",
       "      <td>Latte</td>\n",
       "      <td>20</td>\n",
       "    </tr>\n",
       "    <tr>\n",
       "      <th>4</th>\n",
       "      <td>Wednesday</td>\n",
       "      <td>Espresso</td>\n",
       "      <td>35</td>\n",
       "    </tr>\n",
       "  </tbody>\n",
       "</table>\n",
       "</div>"
      ],
      "text/plain": [
       "         Day Coffee Type  Units Sold\n",
       "0     Monday    Espresso          25\n",
       "1     Monday       Latte          15\n",
       "2    Tuesday    Espresso          30\n",
       "3    Tuesday       Latte          20\n",
       "4  Wednesday    Espresso          35"
      ]
     },
     "execution_count": 225,
     "metadata": {},
     "output_type": "execute_result"
    }
   ],
   "source": [
    "coffee = pd.read_csv('https://raw.githubusercontent.com/KeithGalli/complete-pandas-tutorial/refs/heads/master/warmup-data/coffee.csv')# you can also post the link to the raw csv file in here or the file path to get the data in that file \n",
    "coffee.head()#shows the first 5 rows of data if more write thhat number in the ()"
   ]
  },
  {
   "cell_type": "code",
   "execution_count": 226,
   "id": "000e2bcc",
   "metadata": {},
   "outputs": [
    {
     "data": {
      "text/html": [
       "<div>\n",
       "<style scoped>\n",
       "    .dataframe tbody tr th:only-of-type {\n",
       "        vertical-align: middle;\n",
       "    }\n",
       "\n",
       "    .dataframe tbody tr th {\n",
       "        vertical-align: top;\n",
       "    }\n",
       "\n",
       "    .dataframe thead th {\n",
       "        text-align: right;\n",
       "    }\n",
       "</style>\n",
       "<table border=\"1\" class=\"dataframe\">\n",
       "  <thead>\n",
       "    <tr style=\"text-align: right;\">\n",
       "      <th></th>\n",
       "      <th>year</th>\n",
       "      <th>type</th>\n",
       "      <th>discipline</th>\n",
       "      <th>event</th>\n",
       "      <th>as</th>\n",
       "      <th>athlete_id</th>\n",
       "      <th>noc</th>\n",
       "      <th>team</th>\n",
       "      <th>place</th>\n",
       "      <th>tied</th>\n",
       "      <th>medal</th>\n",
       "    </tr>\n",
       "  </thead>\n",
       "  <tbody>\n",
       "    <tr>\n",
       "      <th>0</th>\n",
       "      <td>1912.0</td>\n",
       "      <td>Summer</td>\n",
       "      <td>Tennis</td>\n",
       "      <td>Singles, Men (Olympic)</td>\n",
       "      <td>Jean-François Blanchy</td>\n",
       "      <td>1</td>\n",
       "      <td>FRA</td>\n",
       "      <td>None</td>\n",
       "      <td>17.0</td>\n",
       "      <td>True</td>\n",
       "      <td>None</td>\n",
       "    </tr>\n",
       "    <tr>\n",
       "      <th>1</th>\n",
       "      <td>1912.0</td>\n",
       "      <td>Summer</td>\n",
       "      <td>Tennis</td>\n",
       "      <td>Doubles, Men (Olympic)</td>\n",
       "      <td>Jean-François Blanchy</td>\n",
       "      <td>1</td>\n",
       "      <td>FRA</td>\n",
       "      <td>Jean Montariol</td>\n",
       "      <td>NaN</td>\n",
       "      <td>False</td>\n",
       "      <td>None</td>\n",
       "    </tr>\n",
       "    <tr>\n",
       "      <th>2</th>\n",
       "      <td>1920.0</td>\n",
       "      <td>Summer</td>\n",
       "      <td>Tennis</td>\n",
       "      <td>Singles, Men (Olympic)</td>\n",
       "      <td>Jean-François Blanchy</td>\n",
       "      <td>1</td>\n",
       "      <td>FRA</td>\n",
       "      <td>None</td>\n",
       "      <td>32.0</td>\n",
       "      <td>True</td>\n",
       "      <td>None</td>\n",
       "    </tr>\n",
       "    <tr>\n",
       "      <th>3</th>\n",
       "      <td>1920.0</td>\n",
       "      <td>Summer</td>\n",
       "      <td>Tennis</td>\n",
       "      <td>Doubles, Mixed (Olympic)</td>\n",
       "      <td>Jean-François Blanchy</td>\n",
       "      <td>1</td>\n",
       "      <td>FRA</td>\n",
       "      <td>Jeanne Vaussard</td>\n",
       "      <td>8.0</td>\n",
       "      <td>True</td>\n",
       "      <td>None</td>\n",
       "    </tr>\n",
       "    <tr>\n",
       "      <th>4</th>\n",
       "      <td>1920.0</td>\n",
       "      <td>Summer</td>\n",
       "      <td>Tennis</td>\n",
       "      <td>Doubles, Men (Olympic)</td>\n",
       "      <td>Jean-François Blanchy</td>\n",
       "      <td>1</td>\n",
       "      <td>FRA</td>\n",
       "      <td>Jacques Brugnon</td>\n",
       "      <td>4.0</td>\n",
       "      <td>False</td>\n",
       "      <td>None</td>\n",
       "    </tr>\n",
       "  </tbody>\n",
       "</table>\n",
       "</div>"
      ],
      "text/plain": [
       "     year    type discipline                     event                     as  \\\n",
       "0  1912.0  Summer     Tennis    Singles, Men (Olympic)  Jean-François Blanchy   \n",
       "1  1912.0  Summer     Tennis    Doubles, Men (Olympic)  Jean-François Blanchy   \n",
       "2  1920.0  Summer     Tennis    Singles, Men (Olympic)  Jean-François Blanchy   \n",
       "3  1920.0  Summer     Tennis  Doubles, Mixed (Olympic)  Jean-François Blanchy   \n",
       "4  1920.0  Summer     Tennis    Doubles, Men (Olympic)  Jean-François Blanchy   \n",
       "\n",
       "   athlete_id  noc             team  place   tied medal  \n",
       "0           1  FRA             None   17.0   True  None  \n",
       "1           1  FRA   Jean Montariol    NaN  False  None  \n",
       "2           1  FRA             None   32.0   True  None  \n",
       "3           1  FRA  Jeanne Vaussard    8.0   True  None  \n",
       "4           1  FRA  Jacques Brugnon    4.0  False  None  "
      ]
     },
     "execution_count": 226,
     "metadata": {},
     "output_type": "execute_result"
    }
   ],
   "source": [
    "results = pd.read_parquet('results.parquet')# atheltes win records in olympics\n",
    "\n",
    "results.head()# you need to download pyarrow to read parquet file type\n",
    "# we can read excel file and many other file type also in pandas to analyse them but parquet is very good and standard"
   ]
  },
  {
   "cell_type": "code",
   "execution_count": 227,
   "id": "2d87a083",
   "metadata": {},
   "outputs": [
    {
     "data": {
      "text/html": [
       "<div>\n",
       "<style scoped>\n",
       "    .dataframe tbody tr th:only-of-type {\n",
       "        vertical-align: middle;\n",
       "    }\n",
       "\n",
       "    .dataframe tbody tr th {\n",
       "        vertical-align: top;\n",
       "    }\n",
       "\n",
       "    .dataframe thead th {\n",
       "        text-align: right;\n",
       "    }\n",
       "</style>\n",
       "<table border=\"1\" class=\"dataframe\">\n",
       "  <thead>\n",
       "    <tr style=\"text-align: right;\">\n",
       "      <th></th>\n",
       "      <th>athlete_id</th>\n",
       "      <th>name</th>\n",
       "      <th>born_date</th>\n",
       "      <th>born_city</th>\n",
       "      <th>born_region</th>\n",
       "      <th>born_country</th>\n",
       "      <th>NOC</th>\n",
       "      <th>height_cm</th>\n",
       "      <th>weight_kg</th>\n",
       "      <th>died_date</th>\n",
       "    </tr>\n",
       "  </thead>\n",
       "  <tbody>\n",
       "    <tr>\n",
       "      <th>0</th>\n",
       "      <td>1</td>\n",
       "      <td>Jean-François Blanchy</td>\n",
       "      <td>1886-12-12</td>\n",
       "      <td>Bordeaux</td>\n",
       "      <td>Gironde</td>\n",
       "      <td>FRA</td>\n",
       "      <td>France</td>\n",
       "      <td>NaN</td>\n",
       "      <td>NaN</td>\n",
       "      <td>1960-10-02</td>\n",
       "    </tr>\n",
       "    <tr>\n",
       "      <th>1</th>\n",
       "      <td>2</td>\n",
       "      <td>Arnaud Boetsch</td>\n",
       "      <td>1969-04-01</td>\n",
       "      <td>Meulan</td>\n",
       "      <td>Yvelines</td>\n",
       "      <td>FRA</td>\n",
       "      <td>France</td>\n",
       "      <td>183.0</td>\n",
       "      <td>76.0</td>\n",
       "      <td>NaN</td>\n",
       "    </tr>\n",
       "    <tr>\n",
       "      <th>2</th>\n",
       "      <td>3</td>\n",
       "      <td>Jean Borotra</td>\n",
       "      <td>1898-08-13</td>\n",
       "      <td>Biarritz</td>\n",
       "      <td>Pyrénées-Atlantiques</td>\n",
       "      <td>FRA</td>\n",
       "      <td>France</td>\n",
       "      <td>183.0</td>\n",
       "      <td>76.0</td>\n",
       "      <td>1994-07-17</td>\n",
       "    </tr>\n",
       "    <tr>\n",
       "      <th>3</th>\n",
       "      <td>4</td>\n",
       "      <td>Jacques Brugnon</td>\n",
       "      <td>1895-05-11</td>\n",
       "      <td>Paris VIIIe</td>\n",
       "      <td>Paris</td>\n",
       "      <td>FRA</td>\n",
       "      <td>France</td>\n",
       "      <td>168.0</td>\n",
       "      <td>64.0</td>\n",
       "      <td>1978-03-20</td>\n",
       "    </tr>\n",
       "    <tr>\n",
       "      <th>4</th>\n",
       "      <td>5</td>\n",
       "      <td>Albert Canet</td>\n",
       "      <td>1878-04-17</td>\n",
       "      <td>Wandsworth</td>\n",
       "      <td>England</td>\n",
       "      <td>GBR</td>\n",
       "      <td>France</td>\n",
       "      <td>NaN</td>\n",
       "      <td>NaN</td>\n",
       "      <td>1930-07-25</td>\n",
       "    </tr>\n",
       "  </tbody>\n",
       "</table>\n",
       "</div>"
      ],
      "text/plain": [
       "   athlete_id                   name   born_date    born_city  \\\n",
       "0           1  Jean-François Blanchy  1886-12-12     Bordeaux   \n",
       "1           2         Arnaud Boetsch  1969-04-01       Meulan   \n",
       "2           3           Jean Borotra  1898-08-13     Biarritz   \n",
       "3           4        Jacques Brugnon  1895-05-11  Paris VIIIe   \n",
       "4           5           Albert Canet  1878-04-17   Wandsworth   \n",
       "\n",
       "            born_region born_country     NOC  height_cm  weight_kg   died_date  \n",
       "0               Gironde          FRA  France        NaN        NaN  1960-10-02  \n",
       "1              Yvelines          FRA  France      183.0       76.0         NaN  \n",
       "2  Pyrénées-Atlantiques          FRA  France      183.0       76.0  1994-07-17  \n",
       "3                 Paris          FRA  France      168.0       64.0  1978-03-20  \n",
       "4               England          GBR  France        NaN        NaN  1930-07-25  "
      ]
     },
     "execution_count": 227,
     "metadata": {},
     "output_type": "execute_result"
    }
   ],
   "source": [
    "bios = pd.read_csv('https://raw.githubusercontent.com/KeithGalli/complete-pandas-tutorial/refs/heads/master/data/bios.csv')\n",
    "bios.head()# this is athelete personal data"
   ]
  },
  {
   "cell_type": "code",
   "execution_count": 230,
   "id": "cda62015",
   "metadata": {},
   "outputs": [
    {
     "data": {
      "text/html": [
       "<div>\n",
       "<style scoped>\n",
       "    .dataframe tbody tr th:only-of-type {\n",
       "        vertical-align: middle;\n",
       "    }\n",
       "\n",
       "    .dataframe tbody tr th {\n",
       "        vertical-align: top;\n",
       "    }\n",
       "\n",
       "    .dataframe thead th {\n",
       "        text-align: right;\n",
       "    }\n",
       "</style>\n",
       "<table border=\"1\" class=\"dataframe\">\n",
       "  <thead>\n",
       "    <tr style=\"text-align: right;\">\n",
       "      <th></th>\n",
       "      <th>Day</th>\n",
       "      <th>Coffee Type</th>\n",
       "      <th>Units Sold</th>\n",
       "    </tr>\n",
       "  </thead>\n",
       "  <tbody>\n",
       "    <tr>\n",
       "      <th>9</th>\n",
       "      <td>Friday</td>\n",
       "      <td>Latte</td>\n",
       "      <td>35</td>\n",
       "    </tr>\n",
       "    <tr>\n",
       "      <th>10</th>\n",
       "      <td>Saturday</td>\n",
       "      <td>Espresso</td>\n",
       "      <td>45</td>\n",
       "    </tr>\n",
       "    <tr>\n",
       "      <th>11</th>\n",
       "      <td>Saturday</td>\n",
       "      <td>Latte</td>\n",
       "      <td>35</td>\n",
       "    </tr>\n",
       "    <tr>\n",
       "      <th>12</th>\n",
       "      <td>Sunday</td>\n",
       "      <td>Espresso</td>\n",
       "      <td>45</td>\n",
       "    </tr>\n",
       "    <tr>\n",
       "      <th>13</th>\n",
       "      <td>Sunday</td>\n",
       "      <td>Latte</td>\n",
       "      <td>35</td>\n",
       "    </tr>\n",
       "  </tbody>\n",
       "</table>\n",
       "</div>"
      ],
      "text/plain": [
       "         Day Coffee Type  Units Sold\n",
       "9     Friday       Latte          35\n",
       "10  Saturday    Espresso          45\n",
       "11  Saturday       Latte          35\n",
       "12    Sunday    Espresso          45\n",
       "13    Sunday       Latte          35"
      ]
     },
     "execution_count": 230,
     "metadata": {},
     "output_type": "execute_result"
    }
   ],
   "source": [
    "coffee.tail()# last 5 rows data"
   ]
  },
  {
   "cell_type": "code",
   "execution_count": 232,
   "id": "c21fc581",
   "metadata": {},
   "outputs": [
    {
     "data": {
      "text/html": [
       "<div>\n",
       "<style scoped>\n",
       "    .dataframe tbody tr th:only-of-type {\n",
       "        vertical-align: middle;\n",
       "    }\n",
       "\n",
       "    .dataframe tbody tr th {\n",
       "        vertical-align: top;\n",
       "    }\n",
       "\n",
       "    .dataframe thead th {\n",
       "        text-align: right;\n",
       "    }\n",
       "</style>\n",
       "<table border=\"1\" class=\"dataframe\">\n",
       "  <thead>\n",
       "    <tr style=\"text-align: right;\">\n",
       "      <th></th>\n",
       "      <th>Day</th>\n",
       "      <th>Coffee Type</th>\n",
       "      <th>Units Sold</th>\n",
       "    </tr>\n",
       "  </thead>\n",
       "  <tbody>\n",
       "    <tr>\n",
       "      <th>4</th>\n",
       "      <td>Wednesday</td>\n",
       "      <td>Espresso</td>\n",
       "      <td>35</td>\n",
       "    </tr>\n",
       "    <tr>\n",
       "      <th>7</th>\n",
       "      <td>Thursday</td>\n",
       "      <td>Latte</td>\n",
       "      <td>30</td>\n",
       "    </tr>\n",
       "    <tr>\n",
       "      <th>11</th>\n",
       "      <td>Saturday</td>\n",
       "      <td>Latte</td>\n",
       "      <td>35</td>\n",
       "    </tr>\n",
       "    <tr>\n",
       "      <th>10</th>\n",
       "      <td>Saturday</td>\n",
       "      <td>Espresso</td>\n",
       "      <td>45</td>\n",
       "    </tr>\n",
       "    <tr>\n",
       "      <th>13</th>\n",
       "      <td>Sunday</td>\n",
       "      <td>Latte</td>\n",
       "      <td>35</td>\n",
       "    </tr>\n",
       "  </tbody>\n",
       "</table>\n",
       "</div>"
      ],
      "text/plain": [
       "          Day Coffee Type  Units Sold\n",
       "4   Wednesday    Espresso          35\n",
       "7    Thursday       Latte          30\n",
       "11   Saturday       Latte          35\n",
       "10   Saturday    Espresso          45\n",
       "13     Sunday       Latte          35"
      ]
     },
     "execution_count": 232,
     "metadata": {},
     "output_type": "execute_result"
    }
   ],
   "source": [
    "coffee.sample(5)# # get random rows data "
   ]
  },
  {
   "cell_type": "code",
   "execution_count": 243,
   "id": "09fee53d",
   "metadata": {},
   "outputs": [
    {
     "data": {
      "text/html": [
       "<div>\n",
       "<style scoped>\n",
       "    .dataframe tbody tr th:only-of-type {\n",
       "        vertical-align: middle;\n",
       "    }\n",
       "\n",
       "    .dataframe tbody tr th {\n",
       "        vertical-align: top;\n",
       "    }\n",
       "\n",
       "    .dataframe thead th {\n",
       "        text-align: right;\n",
       "    }\n",
       "</style>\n",
       "<table border=\"1\" class=\"dataframe\">\n",
       "  <thead>\n",
       "    <tr style=\"text-align: right;\">\n",
       "      <th></th>\n",
       "      <th>Day</th>\n",
       "      <th>Units Sold</th>\n",
       "    </tr>\n",
       "  </thead>\n",
       "  <tbody>\n",
       "    <tr>\n",
       "      <th>5</th>\n",
       "      <td>Wednesday</td>\n",
       "      <td>25</td>\n",
       "    </tr>\n",
       "    <tr>\n",
       "      <th>7</th>\n",
       "      <td>Thursday</td>\n",
       "      <td>30</td>\n",
       "    </tr>\n",
       "    <tr>\n",
       "      <th>8</th>\n",
       "      <td>Friday</td>\n",
       "      <td>45</td>\n",
       "    </tr>\n",
       "  </tbody>\n",
       "</table>\n",
       "</div>"
      ],
      "text/plain": [
       "         Day  Units Sold\n",
       "5  Wednesday          25\n",
       "7   Thursday          30\n",
       "8     Friday          45"
      ]
     },
     "execution_count": 243,
     "metadata": {},
     "output_type": "execute_result"
    }
   ],
   "source": [
    "# for specific rows data we use \n",
    "coffee.loc[[5,7,8],[\"Day\", \"Units Sold\"]]# you can pass list of indexes you want and it will print that also colums name in this show that it can also proint that "
   ]
  },
  {
   "cell_type": "code",
   "execution_count": 247,
   "id": "02f8ce99",
   "metadata": {},
   "outputs": [
    {
     "data": {
      "text/html": [
       "<div>\n",
       "<style scoped>\n",
       "    .dataframe tbody tr th:only-of-type {\n",
       "        vertical-align: middle;\n",
       "    }\n",
       "\n",
       "    .dataframe tbody tr th {\n",
       "        vertical-align: top;\n",
       "    }\n",
       "\n",
       "    .dataframe thead th {\n",
       "        text-align: right;\n",
       "    }\n",
       "</style>\n",
       "<table border=\"1\" class=\"dataframe\">\n",
       "  <thead>\n",
       "    <tr style=\"text-align: right;\">\n",
       "      <th></th>\n",
       "      <th>Day</th>\n",
       "      <th>Units Sold</th>\n",
       "    </tr>\n",
       "  </thead>\n",
       "  <tbody>\n",
       "    <tr>\n",
       "      <th>0</th>\n",
       "      <td>Monday</td>\n",
       "      <td>25</td>\n",
       "    </tr>\n",
       "    <tr>\n",
       "      <th>1</th>\n",
       "      <td>Monday</td>\n",
       "      <td>15</td>\n",
       "    </tr>\n",
       "    <tr>\n",
       "      <th>2</th>\n",
       "      <td>Tuesday</td>\n",
       "      <td>30</td>\n",
       "    </tr>\n",
       "    <tr>\n",
       "      <th>3</th>\n",
       "      <td>Tuesday</td>\n",
       "      <td>20</td>\n",
       "    </tr>\n",
       "    <tr>\n",
       "      <th>4</th>\n",
       "      <td>Wednesday</td>\n",
       "      <td>35</td>\n",
       "    </tr>\n",
       "  </tbody>\n",
       "</table>\n",
       "</div>"
      ],
      "text/plain": [
       "         Day  Units Sold\n",
       "0     Monday          25\n",
       "1     Monday          15\n",
       "2    Tuesday          30\n",
       "3    Tuesday          20\n",
       "4  Wednesday          35"
      ]
     },
     "execution_count": 247,
     "metadata": {},
     "output_type": "execute_result"
    }
   ],
   "source": [
    "# but the above is tedious to write every column so we use iloc it only need column indexes list\n",
    "coffee.iloc[0:5, [0,2]]# its easy and clean also"
   ]
  },
  {
   "cell_type": "code",
   "execution_count": 251,
   "id": "37fe932d",
   "metadata": {},
   "outputs": [
    {
     "data": {
      "text/plain": [
       "RangeIndex(start=0, stop=14, step=1)"
      ]
     },
     "execution_count": 251,
     "metadata": {},
     "output_type": "execute_result"
    }
   ],
   "source": [
    "coffee.index# gives the index range and other info about it "
   ]
  },
  {
   "cell_type": "code",
   "execution_count": 261,
   "id": "12dd1050",
   "metadata": {},
   "outputs": [],
   "source": [
    "coffee.iloc[1,2] = 11# to edit data of specific row and coloumn\n",
    "#0r\n",
    "coffee.loc[1,\"Units Sold\"] = 12# another way to edit you know the name of the column not the index then use this "
   ]
  },
  {
   "cell_type": "code",
   "execution_count": 262,
   "id": "3406f2d5",
   "metadata": {},
   "outputs": [
    {
     "data": {
      "text/html": [
       "<div>\n",
       "<style scoped>\n",
       "    .dataframe tbody tr th:only-of-type {\n",
       "        vertical-align: middle;\n",
       "    }\n",
       "\n",
       "    .dataframe tbody tr th {\n",
       "        vertical-align: top;\n",
       "    }\n",
       "\n",
       "    .dataframe thead th {\n",
       "        text-align: right;\n",
       "    }\n",
       "</style>\n",
       "<table border=\"1\" class=\"dataframe\">\n",
       "  <thead>\n",
       "    <tr style=\"text-align: right;\">\n",
       "      <th></th>\n",
       "      <th>Day</th>\n",
       "      <th>Coffee Type</th>\n",
       "      <th>Units Sold</th>\n",
       "    </tr>\n",
       "  </thead>\n",
       "  <tbody>\n",
       "    <tr>\n",
       "      <th>0</th>\n",
       "      <td>Monday</td>\n",
       "      <td>Espresso</td>\n",
       "      <td>25</td>\n",
       "    </tr>\n",
       "    <tr>\n",
       "      <th>1</th>\n",
       "      <td>Monday</td>\n",
       "      <td>Latte</td>\n",
       "      <td>12</td>\n",
       "    </tr>\n",
       "    <tr>\n",
       "      <th>2</th>\n",
       "      <td>Tuesday</td>\n",
       "      <td>Espresso</td>\n",
       "      <td>30</td>\n",
       "    </tr>\n",
       "    <tr>\n",
       "      <th>3</th>\n",
       "      <td>Tuesday</td>\n",
       "      <td>Latte</td>\n",
       "      <td>20</td>\n",
       "    </tr>\n",
       "    <tr>\n",
       "      <th>4</th>\n",
       "      <td>Wednesday</td>\n",
       "      <td>Espresso</td>\n",
       "      <td>35</td>\n",
       "    </tr>\n",
       "  </tbody>\n",
       "</table>\n",
       "</div>"
      ],
      "text/plain": [
       "         Day Coffee Type  Units Sold\n",
       "0     Monday    Espresso          25\n",
       "1     Monday       Latte          12\n",
       "2    Tuesday    Espresso          30\n",
       "3    Tuesday       Latte          20\n",
       "4  Wednesday    Espresso          35"
      ]
     },
     "execution_count": 262,
     "metadata": {},
     "output_type": "execute_result"
    }
   ],
   "source": [
    "coffee.head()"
   ]
  },
  {
   "cell_type": "code",
   "execution_count": 269,
   "id": "e7bd98ff",
   "metadata": {},
   "outputs": [
    {
     "name": "stdout",
     "output_type": "stream",
     "text": [
      "Monday\n",
      "Espresso\n",
      "0        Monday\n",
      "1        Monday\n",
      "2       Tuesday\n",
      "3       Tuesday\n",
      "4     Wednesday\n",
      "5     Wednesday\n",
      "6      Thursday\n",
      "7      Thursday\n",
      "8        Friday\n",
      "9        Friday\n",
      "10     Saturday\n",
      "11     Saturday\n",
      "12       Sunday\n",
      "13       Sunday\n",
      "Name: Day, dtype: object\n"
     ]
    }
   ],
   "source": [
    "# to grab a specific item we will use \n",
    "print(coffee.iat[0,0])\n",
    "#or\n",
    "print(coffee.iloc[0,1])\n",
    "# or for comolete rows more convienent syntax is \n",
    "print(coffee[\"Day\"])# its case sensitive"
   ]
  },
  {
   "cell_type": "code",
   "execution_count": null,
   "id": "becb8c61",
   "metadata": {},
   "outputs": [
    {
     "data": {
      "text/html": [
       "<div>\n",
       "<style scoped>\n",
       "    .dataframe tbody tr th:only-of-type {\n",
       "        vertical-align: middle;\n",
       "    }\n",
       "\n",
       "    .dataframe tbody tr th {\n",
       "        vertical-align: top;\n",
       "    }\n",
       "\n",
       "    .dataframe thead th {\n",
       "        text-align: right;\n",
       "    }\n",
       "</style>\n",
       "<table border=\"1\" class=\"dataframe\">\n",
       "  <thead>\n",
       "    <tr style=\"text-align: right;\">\n",
       "      <th></th>\n",
       "      <th>Day</th>\n",
       "      <th>Coffee Type</th>\n",
       "      <th>Units Sold</th>\n",
       "    </tr>\n",
       "  </thead>\n",
       "  <tbody>\n",
       "    <tr>\n",
       "      <th>1</th>\n",
       "      <td>Monday</td>\n",
       "      <td>Latte</td>\n",
       "      <td>12</td>\n",
       "    </tr>\n",
       "    <tr>\n",
       "      <th>3</th>\n",
       "      <td>Tuesday</td>\n",
       "      <td>Latte</td>\n",
       "      <td>20</td>\n",
       "    </tr>\n",
       "    <tr>\n",
       "      <th>0</th>\n",
       "      <td>Monday</td>\n",
       "      <td>Espresso</td>\n",
       "      <td>25</td>\n",
       "    </tr>\n",
       "    <tr>\n",
       "      <th>5</th>\n",
       "      <td>Wednesday</td>\n",
       "      <td>Latte</td>\n",
       "      <td>25</td>\n",
       "    </tr>\n",
       "    <tr>\n",
       "      <th>2</th>\n",
       "      <td>Tuesday</td>\n",
       "      <td>Espresso</td>\n",
       "      <td>30</td>\n",
       "    </tr>\n",
       "    <tr>\n",
       "      <th>7</th>\n",
       "      <td>Thursday</td>\n",
       "      <td>Latte</td>\n",
       "      <td>30</td>\n",
       "    </tr>\n",
       "    <tr>\n",
       "      <th>4</th>\n",
       "      <td>Wednesday</td>\n",
       "      <td>Espresso</td>\n",
       "      <td>35</td>\n",
       "    </tr>\n",
       "    <tr>\n",
       "      <th>9</th>\n",
       "      <td>Friday</td>\n",
       "      <td>Latte</td>\n",
       "      <td>35</td>\n",
       "    </tr>\n",
       "    <tr>\n",
       "      <th>11</th>\n",
       "      <td>Saturday</td>\n",
       "      <td>Latte</td>\n",
       "      <td>35</td>\n",
       "    </tr>\n",
       "    <tr>\n",
       "      <th>13</th>\n",
       "      <td>Sunday</td>\n",
       "      <td>Latte</td>\n",
       "      <td>35</td>\n",
       "    </tr>\n",
       "    <tr>\n",
       "      <th>6</th>\n",
       "      <td>Thursday</td>\n",
       "      <td>Espresso</td>\n",
       "      <td>40</td>\n",
       "    </tr>\n",
       "    <tr>\n",
       "      <th>8</th>\n",
       "      <td>Friday</td>\n",
       "      <td>Espresso</td>\n",
       "      <td>45</td>\n",
       "    </tr>\n",
       "    <tr>\n",
       "      <th>10</th>\n",
       "      <td>Saturday</td>\n",
       "      <td>Espresso</td>\n",
       "      <td>45</td>\n",
       "    </tr>\n",
       "    <tr>\n",
       "      <th>12</th>\n",
       "      <td>Sunday</td>\n",
       "      <td>Espresso</td>\n",
       "      <td>45</td>\n",
       "    </tr>\n",
       "  </tbody>\n",
       "</table>\n",
       "</div>"
      ],
      "text/plain": [
       "          Day Coffee Type  Units Sold\n",
       "1      Monday       Latte          12\n",
       "3     Tuesday       Latte          20\n",
       "0      Monday    Espresso          25\n",
       "5   Wednesday       Latte          25\n",
       "2     Tuesday    Espresso          30\n",
       "7    Thursday       Latte          30\n",
       "4   Wednesday    Espresso          35\n",
       "9      Friday       Latte          35\n",
       "11   Saturday       Latte          35\n",
       "13     Sunday       Latte          35\n",
       "6    Thursday    Espresso          40\n",
       "8      Friday    Espresso          45\n",
       "10   Saturday    Espresso          45\n",
       "12     Sunday    Espresso          45"
      ]
     },
     "execution_count": 271,
     "metadata": {},
     "output_type": "execute_result"
    }
   ],
   "source": [
    "#we can sort these values\n",
    "coffee.sort_values(\"Units Sold\", ascending = False )# arrange them in increasing order"
   ]
  },
  {
   "cell_type": "code",
   "execution_count": 273,
   "id": "ec8d6655",
   "metadata": {},
   "outputs": [],
   "source": [
    "# gonna solve problems on padas now from solving 100 pandas problems i do not know complete pandas \n",
    "# so i am gonna chat gpt extensively like whatever i know + using chatgpt to get answers \n",
    "# i am solving this in 100-pandas problem -puzzles directory so refer that for more"
   ]
  },
  {
   "cell_type": "code",
   "execution_count": 4,
   "id": "3de5c796",
   "metadata": {},
   "outputs": [],
   "source": [
    "# i have learnt till regression in neurla network file\n",
    "# now i will learn sklearn here so ya lets go \n"
   ]
  },
  {
   "cell_type": "code",
   "execution_count": 5,
   "id": "3c191642",
   "metadata": {},
   "outputs": [],
   "source": [
    "from sklearn.datasets import load_breast_cancer\n"
   ]
  },
  {
   "cell_type": "code",
   "execution_count": 11,
   "id": "9aa64735",
   "metadata": {},
   "outputs": [],
   "source": [
    "X,y = load_breast_cancer(return_X_y=True )"
   ]
  },
  {
   "cell_type": "code",
   "execution_count": 12,
   "id": "3e415d0b",
   "metadata": {},
   "outputs": [],
   "source": [
    "from sklearn.neighbors import KNeighborsRegressor\n",
    "from sklearn.linear_model import LinearRegression"
   ]
  },
  {
   "cell_type": "code",
   "execution_count": 15,
   "id": "046272fc",
   "metadata": {},
   "outputs": [],
   "source": [
    "mod = KNeighborsRegressor().fit(X,y)\n"
   ]
  },
  {
   "cell_type": "code",
   "execution_count": 16,
   "id": "ad6f8058",
   "metadata": {},
   "outputs": [],
   "source": [
    "pred = mod.predict(X)"
   ]
  },
  {
   "cell_type": "code",
   "execution_count": 19,
   "id": "00fe2ad8",
   "metadata": {},
   "outputs": [
    {
     "data": {
      "text/plain": [
       "<matplotlib.collections.PathCollection at 0x224c9bc6ff0>"
      ]
     },
     "execution_count": 19,
     "metadata": {},
     "output_type": "execute_result"
    },
    {
     "data": {
      "image/png": "[encoded data removed]",
      "text/plain": [
       "<Figure size 640x480 with 1 Axes>"
      ]
     },
     "metadata": {},
     "output_type": "display_data"
    }
   ],
   "source": [
    "import matplotlib.pyplot as plt\n",
    "plt.scatter(pred,y)"
   ]
  },
  {
   "cell_type": "code",
   "execution_count": 21,
   "id": "2883004b",
   "metadata": {},
   "outputs": [
    {
     "name": "stdout",
     "output_type": "stream",
     "text": [
      ".. _breast_cancer_dataset:\n",
      "\n",
      "Breast cancer wisconsin (diagnostic) dataset\n",
      "--------------------------------------------\n",
      "\n",
      "**Data Set Characteristics:**\n",
      "\n",
      ":Number of Instances: 569\n",
      "\n",
      ":Number of Attributes: 30 numeric, predictive attributes and the class\n",
      "\n",
      ":Attribute Information:\n",
      "    - radius (mean of distances from center to points on the perimeter)\n",
      "    - texture (standard deviation of gray-scale values)\n",
      "    - perimeter\n",
      "    - area\n",
      "    - smoothness (local variation in radius lengths)\n",
      "    - compactness (perimeter^2 / area - 1.0)\n",
      "    - concavity (severity of concave portions of the contour)\n",
      "    - concave points (number of concave portions of the contour)\n",
      "    - symmetry\n",
      "    - fractal dimension (\"coastline approximation\" - 1)\n",
      "\n",
      "    The mean, standard error, and \"worst\" or largest (mean of the three\n",
      "    worst/largest values) of these features were computed for each image,\n",
      "    resulting in 30 features.  For instance, field 0 is Mean Radius, field\n",
      "    10 is Radius SE, field 20 is Worst Radius.\n",
      "\n",
      "    - class:\n",
      "            - WDBC-Malignant\n",
      "            - WDBC-Benign\n",
      "\n",
      ":Summary Statistics:\n",
      "\n",
      "===================================== ====== ======\n",
      "                                        Min    Max\n",
      "===================================== ====== ======\n",
      "radius (mean):                        6.981  28.11\n",
      "texture (mean):                       9.71   39.28\n",
      "perimeter (mean):                     43.79  188.5\n",
      "area (mean):                          143.5  2501.0\n",
      "smoothness (mean):                    0.053  0.163\n",
      "compactness (mean):                   0.019  0.345\n",
      "concavity (mean):                     0.0    0.427\n",
      "concave points (mean):                0.0    0.201\n",
      "symmetry (mean):                      0.106  0.304\n",
      "fractal dimension (mean):             0.05   0.097\n",
      "radius (standard error):              0.112  2.873\n",
      "texture (standard error):             0.36   4.885\n",
      "perimeter (standard error):           0.757  21.98\n",
      "area (standard error):                6.802  542.2\n",
      "smoothness (standard error):          0.002  0.031\n",
      "compactness (standard error):         0.002  0.135\n",
      "concavity (standard error):           0.0    0.396\n",
      "concave points (standard error):      0.0    0.053\n",
      "symmetry (standard error):            0.008  0.079\n",
      "fractal dimension (standard error):   0.001  0.03\n",
      "radius (worst):                       7.93   36.04\n",
      "texture (worst):                      12.02  49.54\n",
      "perimeter (worst):                    50.41  251.2\n",
      "area (worst):                         185.2  4254.0\n",
      "smoothness (worst):                   0.071  0.223\n",
      "compactness (worst):                  0.027  1.058\n",
      "concavity (worst):                    0.0    1.252\n",
      "concave points (worst):               0.0    0.291\n",
      "symmetry (worst):                     0.156  0.664\n",
      "fractal dimension (worst):            0.055  0.208\n",
      "===================================== ====== ======\n",
      "\n",
      ":Missing Attribute Values: None\n",
      "\n",
      ":Class Distribution: 212 - Malignant, 357 - Benign\n",
      "\n",
      ":Creator:  Dr. William H. Wolberg, W. Nick Street, Olvi L. Mangasarian\n",
      "\n",
      ":Donor: Nick Street\n",
      "\n",
      ":Date: November, 1995\n",
      "\n",
      "This is a copy of UCI ML Breast Cancer Wisconsin (Diagnostic) datasets.\n",
      "https://goo.gl/U2Uwz2\n",
      "\n",
      "Features are computed from a digitized image of a fine needle\n",
      "aspirate (FNA) of a breast mass.  They describe\n",
      "characteristics of the cell nuclei present in the image.\n",
      "\n",
      "Separating plane described above was obtained using\n",
      "Multisurface Method-Tree (MSM-T) [K. P. Bennett, \"Decision Tree\n",
      "Construction Via Linear Programming.\" Proceedings of the 4th\n",
      "Midwest Artificial Intelligence and Cognitive Science Society,\n",
      "pp. 97-101, 1992], a classification method which uses linear\n",
      "programming to construct a decision tree.  Relevant features\n",
      "were selected using an exhaustive search in the space of 1-4\n",
      "features and 1-3 separating planes.\n",
      "\n",
      "The actual linear program used to obtain the separating plane\n",
      "in the 3-dimensional space is that described in:\n",
      "[K. P. Bennett and O. L. Mangasarian: \"Robust Linear\n",
      "Programming Discrimination of Two Linearly Inseparable Sets\",\n",
      "Optimization Methods and Software 1, 1992, 23-34].\n",
      "\n",
      "This database is also available through the UW CS ftp server:\n",
      "\n",
      "ftp ftp.cs.wisc.edu\n",
      "cd math-prog/cpo-dataset/machine-learn/WDBC/\n",
      "\n",
      ".. dropdown:: References\n",
      "\n",
      "  - W.N. Street, W.H. Wolberg and O.L. Mangasarian. Nuclear feature extraction\n",
      "    for breast tumor diagnosis. IS&T/SPIE 1993 International Symposium on\n",
      "    Electronic Imaging: Science and Technology, volume 1905, pages 861-870,\n",
      "    San Jose, CA, 1993.\n",
      "  - O.L. Mangasarian, W.N. Street and W.H. Wolberg. Breast cancer diagnosis and\n",
      "    prognosis via linear programming. Operations Research, 43(4), pages 570-577,\n",
      "    July-August 1995.\n",
      "  - W.H. Wolberg, W.N. Street, and O.L. Mangasarian. Machine learning techniques\n",
      "    to diagnose breast cancer from fine-needle aspirates. Cancer Letters 77 (1994)\n",
      "    163-171.\n",
      "\n"
     ]
    }
   ],
   "source": [
    "print(load_breast_cancer()['DESCR'])# important to analyse any dataset we can use this and it gives all the info about the dataset its just too good man "
   ]
  },
  {
   "cell_type": "code",
   "execution_count": null,
   "id": "ba163fc1",
   "metadata": {},
   "outputs": [
    {
     "name": "stdout",
     "output_type": "stream",
     "text": [
      "\ttab\n",
      "\\ttab\n",
      "<re.Match object; span=(44, 45), match='.'>\n",
      "adc\n"
     ]
    }
   ],
   "source": [
    "# so like we can make pipelines and whole gridsearch cv also in this, so i am skipping this for now and now i will learn regex for ls\n",
    "import re\n",
    "text_to_search = 'adcdefghijklmnopABC7845@sdkfjs89485,ddff,fdf.sdf'\n",
    "print('\\ttab')# this leaves a tab space but if we dont want this and want \\t as a string then \n",
    "print(r'\\ttab')\n",
    "sentence = 'Start a sentance and then bring it to an end'\n",
    "pattern = re.compile(r'\\.')\n",
    "matches = pattern.finditer(text_to_search)\n",
    "for match in matches:\n",
    "  print(match)\n",
    "\n",
    "print(text_to_search[0:3])\n",
    "# importatn things is that there are escape characters which need a escape sign on them before or they dont work \n",
    "# here are they '. ^ $ * + ? {} [] \\ ()'\n",
    "#example \n",
    "# pattern = re.complie(r'\\d\\d\\d.\\d\\d\\d.\\d\\d\\d\\d') this matches all of our numbers in this patterns like phonenumbers separated by anything because of period(.) by doing [-.] inseated of . only make . or - separator be printed \n",
    "# now suppose we want that only numbers with 800 or 900 starting gets printed then do re.complie(r'[89]00.\\d\\d\\d.\\d\\d\\d\\d') \n",
    "# for range do this re.complie(r'[a,bc,df,g]') # a can be number and b also or both can be character\n",
    "# there are lot things that we can do in this so jab bhi doubt ho ask chatgpt\n",
    "# so ya done\n"
   ]
  },
  {
   "cell_type": "code",
   "execution_count": null,
   "id": "9c30461f",
   "metadata": {},
   "outputs": [],
   "source": []
  }
 ],
 "metadata": {
  "kernelspec": {
   "display_name": "Python 3",
   "language": "python",
   "name": "python3"
  },
  "language_info": {
   "codemirror_mode": {
    "name": "ipython",
    "version": 3
   },
   "file_extension": ".py",
   "mimetype": "text/x-python",
   "name": "python",
   "nbconvert_exporter": "python",
   "pygments_lexer": "ipython3",
   "version": "3.12.0"
  }
 },
 "nbformat": 4,
 "nbformat_minor": 5
}
